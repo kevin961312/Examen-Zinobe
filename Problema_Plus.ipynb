{
 "cells": [
  {
   "cell_type": "code",
   "execution_count": 1,
   "metadata": {},
   "outputs": [],
   "source": [
    "import scipy.optimize as opt\n",
    "from IPython.display import display, Markdown\n",
    "from math import cos,sin, pi"
   ]
  },
  {
   "cell_type": "code",
   "execution_count": 2,
   "metadata": {
    "tags": []
   },
   "outputs": [],
   "source": []
  },
  {
   "cell_type": "code",
   "execution_count": 3,
   "metadata": {
    "tags": []
   },
   "outputs": [],
   "source": []
  },
  {
   "cell_type": "code",
   "execution_count": 4,
   "metadata": {
    "tags": []
   },
   "outputs": [
    {
     "name": "stdout",
     "output_type": "stream",
     "text": [
      "[98.03492276  6.48175756]\n"
     ]
    }
   ],
   "source": []
  },
  {
   "cell_type": "code",
   "execution_count": 5,
   "metadata": {},
   "outputs": [
    {
     "data": {
      "text/markdown": [
       "\n",
       "The nonlineal System:\n",
       "\n",
       "$-F_r+\\omega_x=ma$\n",
       "\n",
       "$\\hspace{5pt}N-\\omega_y \\hspace{3pt}=0$\n",
       "\n",
       "with condition\n",
       "\n",
       "$F_r = N\\mu,\n",
       "\\hspace{4pt} w_x=\\omega\\sin(\\theta), \n",
       "\\hspace{4pt} w_y=\\omega\\cos(\\theta)$\n",
       "\n",
       "$\\mu=0.2,\n",
       "\\hspace{4pt} \\omega=mg,\n",
       "\\hspace{4pt} m= 10kg,\n",
       "\\hspace{4pt} a=0.012 \\dfrac{m}{s^2},\n",
       "\\hspace{4pt} g = 10\\dfrac{m}{s^2},$\n",
       "\n",
       "this has a solution in the interval $[0,2\\pi]$ give as:\n",
       "\n",
       "$N=98.03492276,\\\\ \\theta \\hspace{4pt}=6.48175756.$\n",
       "\n"
      ],
      "text/plain": [
       "<IPython.core.display.Markdown object>"
      ]
     },
     "metadata": {},
     "output_type": "display_data"
    }
   ],
   "source": [
    "display(Markdown(\n",
    "   \"\"\"\n",
    "The nonlineal System:\\n\n",
    "$-F_r+\\omega_x=ma$\\n\n",
    "$\\hspace{5pt}N-\\omega_y \\hspace{3pt}=0$\\n\n",
    "with condition\\n\n",
    "$F_r = N\\mu,\n",
    "\\hspace{4pt} w_x=\\omega\\sin(\\\\theta), \n",
    "\\hspace{4pt} w_y=\\omega\\cos(\\\\theta)$\\n\n",
    "$\\mu=0.2,\n",
    "\\hspace{4pt} \\omega=mg,\n",
    "\\hspace{4pt} m= 10kg,\n",
    "\\hspace{4pt} a=0.012 \\dfrac{m}{s^2},\n",
    "\\hspace{4pt} g = 10\\dfrac{m}{s^2},$\\n\n",
    "this has a solution in the interval $[0,2\\pi]$ give as:\\n\n",
    "$N=98.03492276,\\\\\\ \\\\theta \\hspace{4pt}=6.48175756.$\n",
    "\n",
    "\"\"\"))"
   ]
  }
 ],
 "metadata": {
  "kernelspec": {
   "display_name": "Python 3",
   "language": "python",
   "name": "python3"
  },
  "language_info": {
   "codemirror_mode": {
    "name": "ipython",
    "version": 3
   },
   "file_extension": ".py",
   "mimetype": "text/x-python",
   "name": "python",
   "nbconvert_exporter": "python",
   "pygments_lexer": "ipython3",
   "version": "3.7.6"
  }
 },
 "nbformat": 4,
 "nbformat_minor": 4
}
