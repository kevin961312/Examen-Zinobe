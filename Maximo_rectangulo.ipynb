{
 "cells": [
  {
   "cell_type": "code",
   "execution_count": 1,
   "metadata": {},
   "outputs": [],
   "source": [
    "import sys"
   ]
  },
  {
   "cell_type": "code",
   "execution_count": 2,
   "metadata": {},
   "outputs": [],
   "source": [
    "def convert_matriz(M):\n",
    "    len_col = len(M[0])\n",
    "    len_row = len(M)\n",
    "    for i in range(len_row):\n",
    "        for j in range(len_col):\n",
    "            if M[i][j]==1:M[i][j]= -sys.maxsize\n",
    "            elif M[i][j]==0: M[i][j]= 1\n",
    "    return M"
   ]
  },
  {
   "cell_type": "code",
   "execution_count": 3,
   "metadata": {},
   "outputs": [],
   "source": [
    "def kadane_major_col(A,len_col,len_row):\n",
    "    M = convert_matriz(A)\n",
    "    sum_max = 0\n",
    "    row_t ,col_t = 0,0\n",
    "    row_f ,col_f = 0,0\n",
    "    for g in range(len_row):\n",
    "        sum_par = [0]*len_col\n",
    "        for i in range(g, len_row):\n",
    "            t=h=0\n",
    "            for j in range(len_col):\n",
    "                sum_par[j]+= M[i][j]\n",
    "                t+=sum_par[j]\n",
    "                if t>sum_max:\n",
    "                    sum_max = t \n",
    "                    row_t,col_t= g,h\n",
    "                    row_f,col_f = i,j\n",
    "                if t<=0:\n",
    "                    t=0\n",
    "                    h=j+1\n",
    "    return sum_max,row_t,col_t,row_f,col_f        "
   ]
  },
  {
   "cell_type": "code",
   "execution_count": 4,
   "metadata": {},
   "outputs": [],
   "source": [
    "def kadane_major_row(A,len_col,len_row):\n",
    "    M = convert_matriz(A)\n",
    "    sum_max = 0\n",
    "    row_t ,col_t = 0,0\n",
    "    row_f ,col_f = 0,0\n",
    "    for g in range(len_col):\n",
    "        sum_par = [0]*len_row\n",
    "        for i in range(g, len_col):\n",
    "            t=h=0\n",
    "            for j in range(len_row):\n",
    "                sum_par[j]+= M[j][i]\n",
    "                t+=sum_par[j]\n",
    "                if t>sum_max:\n",
    "                    sum_max = t \n",
    "                    row_t,col_t= h,g\n",
    "                    row_f,col_f = j,i\n",
    "                if t<=0:\n",
    "                    t=0\n",
    "                    h=j+1\n",
    "    return sum_max,row_t,col_t,row_f,col_f"
   ]
  },
  {
   "cell_type": "code",
   "execution_count": 5,
   "metadata": {},
   "outputs": [],
   "source": [
    "def maximo_rectangulo(M):\n",
    "    len_col,len_row=len(M[0]),len(M)\n",
    "    if len_col >= len_row:\n",
    "        date = list(kadane_major_row(M,len_col, len_row))\n",
    "        largo = abs(date[1]-date[3])+1\n",
    "        ancho = abs(date[2]-date[4])+1\n",
    "        return date[1],date[2], largo, ancho\n",
    "    else:\n",
    "        date = list(kadane_major_col(M,len_col, len_row))\n",
    "        largo = abs(date[1]-date[3])+1\n",
    "        ancho = abs(date[2]-date[4])+1\n",
    "        return date[1],date[2], largo, ancho"
   ]
  },
  {
   "cell_type": "code",
   "execution_count": 6,
   "metadata": {},
   "outputs": [],
   "source": [
    "def maximo_cuadrado(M):\n",
    "    len_col,len_row=len(M[0]),len(M)\n",
    "    if len_col >= len_row:\n",
    "        date = list(kadane_major_row(M,len_col, len_row))\n",
    "        largo = abs(date[1]-date[3])+1\n",
    "        ancho = abs(date[2]-date[4])+1\n",
    "        return date[1],date[2], min(largo, ancho)\n",
    "    else:\n",
    "        date = list(kadane_major_col(M,len_col, len_row))\n",
    "        largo = abs(date[1]-date[3])+1\n",
    "        ancho = abs(date[2]-date[4])+1\n",
    "        return date[1],date[2], min(largo, ancho)"
   ]
  },
  {
   "cell_type": "code",
   "execution_count": 7,
   "metadata": {},
   "outputs": [],
   "source": [
    "A= [[1,0,0,0],[1,1,0,0],[1,1,1,1],[1,1,1,1]]\n",
    "M= [[1,0,0,0],[1,1,1,0],[1,1,1,1]]\n",
    "B= [[1,1,1,0,0],[1,1,1,0,0],[1,1,1,0,0]]\n",
    "C= [[0,1,0],[1,0,0],[0,1,0]]\n",
    "P= [[0,1,0,0,0,0,0,1,0,0],\n",
    "     [1,0,0,0,0,1,0,0,0,0],\n",
    "     [0,0,1,0,1,0,0,1,0,0],\n",
    "     [1,0,0,0,0,0,0,0,0,0],\n",
    "     [0,0,0,0,0,0,0,0,1,0],\n",
    "     [0,0,0,0,0,0,0,0,0,0],\n",
    "     [0,0,0,0,0,0,0,0,0,1],\n",
    "     [1,0,0,0,1,0,1,0,0,0],\n",
    "     [0,0,1,0,0,0,0,0,1,0],\n",
    "     [0,0,0,0,1,0,1,0,0,0]]\n",
    "P_1= [[0,1,0,0,0,0,0,1,0,0],\n",
    "     [1,0,0,0,0,1,0,0,0,0],\n",
    "     [0,0,1,0,1,0,0,1,0,0],\n",
    "     [1,0,0,0,0,0,0,0,0,0],\n",
    "     [0,0,0,0,0,0,0,0,1,0],\n",
    "     [0,0,0,0,0,0,0,0,0,0],\n",
    "     [0,0,0,0,0,0,0,0,0,1],\n",
    "     [1,0,0,0,1,0,1,0,0,0],\n",
    "     [0,0,1,0,0,0,0,0,1,0],\n",
    "     [0,0,0,0,1,0,1,0,0,0],\n",
    "     [0,0,0,0,0,0,0,0,0,0]\n",
    "     ]\n",
    "D=[[0,0],[0,0],[1,1],[1,1]] \n"
   ]
  },
  {
   "cell_type": "code",
   "execution_count": 8,
   "metadata": {},
   "outputs": [
    {
     "data": {
      "text/plain": [
       "(1, 0, 2, 3)"
      ]
     },
     "execution_count": 8,
     "metadata": {},
     "output_type": "execute_result"
    }
   ],
   "source": [
    "maximo_rectangulo(F)"
   ]
  }
 ],
 "metadata": {
  "kernelspec": {
   "display_name": "Python 3.6.9 64-bit",
   "language": "python",
   "name": "python36964bit80b9abb26e4e47e9a22ba9f5176b36e2"
  },
  "language_info": {
   "codemirror_mode": {
    "name": "ipython",
    "version": 3
   },
   "file_extension": ".py",
   "mimetype": "text/x-python",
   "name": "python",
   "nbconvert_exporter": "python",
   "pygments_lexer": "ipython3",
   "version": "3.6.9"
  }
 },
 "nbformat": 4,
 "nbformat_minor": 4
}
