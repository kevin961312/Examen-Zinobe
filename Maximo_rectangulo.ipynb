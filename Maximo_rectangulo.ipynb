{
 "cells": [
  {
   "cell_type": "code",
   "execution_count": 2,
   "metadata": {},
   "outputs": [
    {
     "ename": "ModuleNotFoundError",
     "evalue": "No module named 'numpy'",
     "output_type": "error",
     "traceback": [
      "\u001b[0;31m---------------------------------------------------------------------------\u001b[0m",
      "\u001b[0;31mModuleNotFoundError\u001b[0m                       Traceback (most recent call last)",
      "\u001b[0;32m<ipython-input-2-9bd7d5c73d81>\u001b[0m in \u001b[0;36m<module>\u001b[0;34m\u001b[0m\n\u001b[1;32m      1\u001b[0m \u001b[0;32mimport\u001b[0m \u001b[0msys\u001b[0m\u001b[0;34m\u001b[0m\u001b[0;34m\u001b[0m\u001b[0m\n\u001b[0;32m----> 2\u001b[0;31m \u001b[0;32mimport\u001b[0m \u001b[0mnumpy\u001b[0m \u001b[0;32mas\u001b[0m \u001b[0mnp\u001b[0m\u001b[0;34m\u001b[0m\u001b[0;34m\u001b[0m\u001b[0m\n\u001b[0m",
      "\u001b[0;31mModuleNotFoundError\u001b[0m: No module named 'numpy'"
     ]
    }
   ],
   "source": [
    "import sys\n",
    "import numpy as np"
   ]
  },
  {
   "cell_type": "code",
   "execution_count": null,
   "metadata": {},
   "outputs": [],
   "source": [
    "def convert_matriz(A):\n",
    "    A = np.array(A, dtype=np.float32)\n",
    "    A = np.where(A==1,-sys.maxsize,A) \n",
    "    A = np.where(A==0,1,A) \n",
    "    return A"
   ]
  },
  {
   "cell_type": "code",
   "execution_count": null,
   "metadata": {},
   "outputs": [],
   "source": [
    "def kadane(A,min_l,max_l):\n",
    "    M = convert_matriz(A)\n",
    "    sum_max = 0\n",
    "    row_t ,col_t = 0,0\n",
    "    row_f ,col_f = 0,0\n",
    "    for g in range(min_l):\n",
    "        sum_par = [0]*max_l\n",
    "        for i in range(g, min_l):\n",
    "            t=h=0\n",
    "            for j in range(max_l):\n",
    "                try:\n",
    "                    sum_par[j]+= M[i][j]\n",
    "                except IndexError:\n",
    "                    continue\n",
    "                    sum_par[j]+= M[j][i]   \n",
    "                t+=sum_par[j]\n",
    "                if t>sum_max:\n",
    "                    sum_max = t \n",
    "                    row_t,col_t= h,g\n",
    "                    row_f,col_f = j,i\n",
    "                if t<=0:\n",
    "                    t=0\n",
    "                    h=j+1\n",
    "    return sum_max,row_t,col_t,row_f,col_f"
   ]
  },
  {
   "cell_type": "code",
   "execution_count": null,
   "metadata": {},
   "outputs": [],
   "source": []
  },
  {
   "cell_type": "code",
   "execution_count": null,
   "metadata": {},
   "outputs": [],
   "source": [
    "A= [[1,0,0,0],[1,1,0,0],[1,1,1,1],[1,1,1,1]]\n",
    "M= [[1,0,0,0],[1,1,1,0],[1,1,1,1]]\n",
    "B= [[1,1,1,0,0],[1,1,1,0,0],[1,1,1,0,0]]\n",
    "C= [[0,1,0],[1,0,0],[0,1,0]]\n",
    "P= [[0,1,0,0,0,0,0,1,0,0],\n",
    "     [1,0,0,0,0,1,0,0,0,0],\n",
    "     [0,0,1,0,1,0,0,1,0,0],\n",
    "     [1,0,0,0,0,0,0,0,0,0],\n",
    "     [0,0,0,0,0,0,0,0,1,0],\n",
    "     [0,0,0,0,0,0,0,0,0,0],\n",
    "     [0,0,0,0,0,0,0,0,0,1],\n",
    "     [1,0,0,0,1,0,1,0,0,0],\n",
    "     [0,0,1,0,0,0,0,0,1,0],\n",
    "     [0,0,0,0,1,0,1,0,0,0]]\n",
    "P_1= [[0,1,0,0,0,0,0,1,0,0],\n",
    "     [1,0,0,0,0,1,0,0,0,0],\n",
    "     [0,0,1,0,1,0,0,1,0,0],\n",
    "     [1,0,0,0,0,0,0,0,0,0],\n",
    "     [0,0,0,0,0,0,0,0,1,0],\n",
    "     [0,0,0,0,0,0,0,0,0,0],\n",
    "     [0,0,0,0,0,0,0,0,0,1],\n",
    "     [1,0,0,0,1,0,1,0,0,0],\n",
    "     [0,0,1,0,0,0,0,0,1,0],\n",
    "     [0,0,0,0,1,0,1,0,0,0],\n",
    "     [0,0,0,0,0,0,0,0,0,0]\n",
    "     ]\n",
    "D=[[0,0],[0,0],[1,1],[1,1]] \n"
   ]
  },
  {
   "cell_type": "code",
   "execution_count": null,
   "metadata": {},
   "outputs": [],
   "source": [
    "maximo_rectangulo(D)"
   ]
  }
 ],
 "metadata": {
  "kernelspec": {
   "display_name": "Python 3.6.9 64-bit",
   "language": "python",
   "name": "python36964bit80b9abb26e4e47e9a22ba9f5176b36e2"
  },
  "language_info": {
   "codemirror_mode": {
    "name": "ipython",
    "version": 3
   },
   "file_extension": ".py",
   "mimetype": "text/x-python",
   "name": "python",
   "nbconvert_exporter": "python",
   "pygments_lexer": "ipython3",
   "version": "3.6.9"
  }
 },
 "nbformat": 4,
 "nbformat_minor": 4
}
