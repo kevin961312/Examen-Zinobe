{
 "cells": [
  {
   "cell_type": "code",
   "execution_count": 20,
   "metadata": {},
   "outputs": [],
   "source": [
    "import unittest\n",
    "from Solu_exam_Zinobe import maximo_rectangulo, maximo_cuadrado"
   ]
  },
  {
   "cell_type": "code",
   "execution_count": 19,
   "metadata": {},
   "outputs": [],
   "source": [
    "class Unittestfunc(unittest.TestCase):\n",
    "    def test_max_rectangulo(self):\n",
    "        prov_1= maximo_rectangulo([[1,0,0,1,1],\n",
    "                                   [1,0,0,1,1],\n",
    "                                   [1,0,0,1,1]])\n",
    "        prov_2= maximo_rectangulo([['a',1,1],[1,1,1]])\n",
    "        prov_3= maximo_rectangulo([[]])\n",
    "        prov_4= maximo_rectangulo([[0,1,0,0,0,0,0,1,0,0],\n",
    "                                 [1,0,0,0,0,1,0,0,0,0],\n",
    "                                 [0,0,1,0,1,0,0,0,0,0],\n",
    "                                 [1,0,0,0,0,0,0,0,0,0],\n",
    "                                 [0,0,0,0,0,0,0,0,1,0],\n",
    "                                 [0,0,0,0,0,0,0,0,0,0],\n",
    "                                 [0,0,0,0,0,0,0,0,0,1],\n",
    "                                 [1,0,0,0,1,0,1,0,0,0],\n",
    "                                 [0,0,1,0,0,0,0,0,1,0],\n",
    "                                 [0,0,0,0,1,0,1,0,0,0]])\n",
    "        self.assertEqual(prov_1,(0,1,2,3))\n",
    "        self.assertEqual(prov_2,\"La matriz no cumple las condiciones\")\n",
    "        self.assertEqual(prov_3,\"La matriz no posee elementos\")\n",
    "        self.assertEqual(prov_4,(3,1,7,4))\n",
    "        \n",
    "        def test_max_cuadrado(self):\n",
    "            prov_1= maximo_cuadrado([[1,0,0,1,1],\n",
    "                                   [1,0,0,1,1],\n",
    "                                   [1,0,0,1,1]])\n",
    "            prov_2= maximo_cuadrado([['a',1,1],[1,1,1]])\n",
    "            prov_3= maximo_cuadrado([[]])\n",
    "            prov_4= maximo_cuadrado([[0,1,0,0,0,0,0,1,0,0],\n",
    "                                     [1,0,0,0,0,1,0,0,0,0],\n",
    "                                     [0,0,1,0,1,0,0,0,0,0],\n",
    "                                     [1,0,0,0,0,0,0,0,0,0],\n",
    "                                     [0,0,0,0,0,0,0,0,1,0],\n",
    "                                     [0,0,0,0,0,0,0,0,0,0],\n",
    "                                     [0,0,0,0,0,0,0,0,0,1],\n",
    "                                     [1,0,0,0,1,0,1,0,0,0],\n",
    "                                     [0,0,1,0,0,0,0,0,1,0],\n",
    "                                     [0,0,0,0,1,0,1,0,0,0]])\n",
    "            self.assertEqual(prov_1,(0,1,2))\n",
    "            self.assertEqual(prov_2,\"La matriz no cumple las condiciones\")\n",
    "            self.assertEqual(prov_3,\"La matriz no posee elementos\")\n",
    "            self.assertEqual(prov_4,(3,1,4))\n",
    "            \n",
    "        def \n",
    "        "
   ]
  },
  {
   "cell_type": "code",
   "execution_count": 21,
   "metadata": {},
   "outputs": [
    {
     "name": "stderr",
     "output_type": "stream",
     "text": [
      ".\n",
      "----------------------------------------------------------------------\n",
      "Ran 1 test in 0.006s\n",
      "\n",
      "OK\n"
     ]
    }
   ],
   "source": [
    "if __name__ == \"__main__\":\n",
    "    unittest.main(argv=['first-arg-is-ignored'], exit=False)"
   ]
  }
 ],
 "metadata": {
  "kernelspec": {
   "display_name": "Python 3",
   "language": "python",
   "name": "python3"
  },
  "language_info": {
   "codemirror_mode": {
    "name": "ipython",
    "version": 3
   },
   "file_extension": ".py",
   "mimetype": "text/x-python",
   "name": "python",
   "nbconvert_exporter": "python",
   "pygments_lexer": "ipython3",
   "version": "3.7.6"
  }
 },
 "nbformat": 4,
 "nbformat_minor": 4
}
