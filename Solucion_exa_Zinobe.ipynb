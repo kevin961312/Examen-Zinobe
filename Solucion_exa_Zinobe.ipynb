{
 "cells": [
  {
   "cell_type": "markdown",
   "metadata": {},
   "source": [
    "# Solución Problemas Zinobe"
   ]
  },
  {
   "cell_type": "markdown",
   "metadata": {},
   "source": [
    "#### Librerías necesarias para los 4 problemas."
   ]
  },
  {
   "cell_type": "code",
   "execution_count": 1,
   "metadata": {},
   "outputs": [],
   "source": [
    "import sys\n",
    "import numpy as np\n",
    "from random import randint\n",
    "from itertools import chain\n",
    "import scipy.optimize as opt\n",
    "from math import cos,sin, pi"
   ]
  },
  {
   "cell_type": "markdown",
   "metadata": {},
   "source": [
    "#### Esta función me convierte los elementos 0 en 1, y los elementos 1 en menos el máximo entero que puede tomar el sistema."
   ]
  },
  {
   "cell_type": "code",
   "execution_count": 2,
   "metadata": {},
   "outputs": [],
   "source": [
    "def convert_matriz(A):\n",
    "    A = np.array(A, dtype=np.float)\n",
    "    A = np.where(A==1,-sys.maxsize,A) \n",
    "    A = np.where(A==0,1,A) \n",
    "    return A"
   ]
  },
  {
   "cell_type": "markdown",
   "metadata": {},
   "source": [
    "#### Algoritmo de Kadane para arreglos en 2D."
   ]
  },
  {
   "cell_type": "code",
   "execution_count": 3,
   "metadata": {},
   "outputs": [],
   "source": [
    "def kadane(A,min_l,max_l):\n",
    "    M = convert_matriz(A)\n",
    "    sum_max = 0\n",
    "    row_t ,col_t = 0,0\n",
    "    row_f ,col_f = 0,0\n",
    "    for g in range(min_l):\n",
    "        sum_par = [0]*max_l\n",
    "        for i in range(g, min_l):\n",
    "            t=h=0\n",
    "            for j in range(max_l):\n",
    "                try:\n",
    "                    sum_par[j]+= M[i][j]\n",
    "                except IndexError:\n",
    "                    continue\n",
    "                    sum_par[j]+= M[j][i]   \n",
    "                t+=sum_par[j]\n",
    "                if t>sum_max:\n",
    "                    sum_max = t \n",
    "                    row_t,col_t= h,g\n",
    "                    row_f,col_f = j,i\n",
    "                if t<=0:\n",
    "                    t=0\n",
    "                    h=j+1\n",
    "    return sum_max,row_t,col_t,row_f,col_f"
   ]
  },
  {
   "cell_type": "markdown",
   "metadata": {},
   "source": [
    "#### Función solucion para nuestro problema 1."
   ]
  },
  {
   "cell_type": "code",
   "execution_count": 4,
   "metadata": {},
   "outputs": [],
   "source": [
    "def maximo_rectangulo(M):\n",
    "    try:\n",
    "        if len(set(chain.from_iterable(M)))>2:\n",
    "            return \"La matriz posee números distintos de 1 y 0\"\n",
    "        elif set(chain.from_iterable(M)) == {1}:return (0,0,0,0)\n",
    "        elif len(set(chain.from_iterable(M))) ==0 : \n",
    "            return \"La matriz no posee elementos\"\n",
    "        len_col,len_row=len(M[0]),len(M)\n",
    "        if len_col >= len_row:\n",
    "            date = list(kadane(M,len_row, len_col))\n",
    "            width = abs(date[1]-date[3])+1\n",
    "            length= abs(date[2]-date[4])+1\n",
    "            return date[2],date[1], width,length\n",
    "        else:\n",
    "            date = list(kadane(M,len_col, len_row))\n",
    "            width = abs(date[1]-date[3])+1\n",
    "            length = abs(date[2]-date[4])+1\n",
    "            return date[2],date[1], width, length\n",
    "    except ValueError:\n",
    "        return \"La matriz no cumple las condiciones\""
   ]
  },
  {
   "cell_type": "markdown",
   "metadata": {},
   "source": [
    "#### Función solucion para nuestro problema 2.\n"
   ]
  },
  {
   "cell_type": "code",
   "execution_count": 5,
   "metadata": {},
   "outputs": [],
   "source": [
    "def maximo_cuadrado(M):\n",
    "    try:\n",
    "        if set(chain.from_iterable(M)) == {1}:return (0,0,0)\n",
    "        elif len(set(chain.from_iterable(M)))>2:\n",
    "            return \"La matriz posee números distintos de 1 y 0\"\n",
    "        elif len(set(chain.from_iterable(M))) ==0 : \n",
    "            return \"La matriz no posee elementos\"\n",
    "        len_col,len_row=len(M[0]),len(M)\n",
    "        if len_col >= len_row:\n",
    "            date = list(kadane(M,len_row, len_col))\n",
    "            width = abs(date[1]-date[3])+1\n",
    "            length = abs(date[2]-date[4])+1\n",
    "            return date[2],date[1],  min(length, width)\n",
    "        else:\n",
    "            date = list(kadane(M,len_col, len_row))\n",
    "            width = abs(date[1]-date[3])+1\n",
    "            length = abs(date[2]-date[4])+1\n",
    "            return date[2],date[1], min(length, width)\n",
    "    except ValueError:\n",
    "        return \"La matriz no cumple las condiciones\""
   ]
  },
  {
   "cell_type": "markdown",
   "metadata": {},
   "source": [
    "#### Funciones elementales para mi problema 3:\n",
    "#### - La función element, me toma los elementos de la vecindad de mi celda.\n",
    "#### - La función neigh, me crea un conjunto con los indices de los elementos de la vecindad."
   ]
  },
  {
   "cell_type": "code",
   "execution_count": 6,
   "metadata": {},
   "outputs": [],
   "source": [
    "element = lambda M,row,col: [M[i][j] for i in range(row-1,row+2) for j in range(col-1,col+2)\n",
    "                            if (0 <= i < len(M) and 0 <= j < len(M[0]))]\n",
    "neigh   = lambda M,row,col: {(i,j) for i in range(row-1,row+2) for j in range(col-1,col+2)\n",
    "                            if (0 <= i < len(M) and 0 <= j < len(M[0]))}"
   ]
  },
  {
   "cell_type": "markdown",
   "metadata": {},
   "source": [
    "#### Función solucion para nuestro problema 3."
   ]
  },
  {
   "cell_type": "code",
   "execution_count": 7,
   "metadata": {},
   "outputs": [],
   "source": [
    "def iterador_celdas_libres(M,row,col):\n",
    "    try:\n",
    "        if len(set(chain.from_iterable(M)))>2:\n",
    "                return \"La matriz posee números distintos de 1 y 0\"\n",
    "        elif len(set(chain.from_iterable(M))) ==0 : \n",
    "                return \"La matriz no posee elementos\"\n",
    "        elif sum(element(M,row,col))!=0: return \"No existe un camino\"\n",
    "        elif row>= len(M) or col >len(M[0]) or row<0 or col<0: return \"Error en los indices\"\n",
    "        list_iter = []\n",
    "        set_neigh = neigh(M,row,col)\n",
    "        #calcular derecha \n",
    "        for i in range(col,-1,-1):\n",
    "            for j in range(row,-1,-1):\n",
    "                if sum(element(M,j,i)) ==0 and (j,i) in set_neigh:\n",
    "                    list_iter.append((j,i))\n",
    "                    set_neigh.update(neigh(M,j,i))\n",
    "            for j in range(row+1,len(M)):\n",
    "                if sum(element(M,j,i)) ==0 and (j,i) in set_neigh:\n",
    "                    list_iter.append((j,i))\n",
    "                    set_neigh.update(neigh(M,j,i))\n",
    "        #claculo izq\n",
    "        for i in range(col+1, len(M[0])):\n",
    "            for j in range(row,-1,-1):\n",
    "                if sum(element(M,j,i)) ==0 and (j,i) in set_neigh:\n",
    "                    list_iter.append((j,i))\n",
    "                    set_neigh.update(neigh(M,j,i))\n",
    "        list_iter = iter(list_iter)\n",
    "        return list_iter\n",
    "    except ValueError:\n",
    "        return \"La matriz no cumple las condiciones\"\n",
    "    except TypeError:\n",
    "         return \"La matriz no cumple las condiciones\""
   ]
  },
  {
   "cell_type": "markdown",
   "metadata": {},
   "source": [
    "#### Solución problema plus."
   ]
  },
  {
   "cell_type": "code",
   "execution_count": 8,
   "metadata": {},
   "outputs": [],
   "source": [
    "def equation(variable):\n",
    "    (N,t)= variable\n",
    "    #constans\n",
    "    mu, mass , gravity, acce = 0.2, 10, 10, 0.012\n",
    "    w = mass*gravity\n",
    "    #assignment\n",
    "    F_r = N*mu\n",
    "    w_x = w*sin(t) \n",
    "    w_y = w*cos(t)\n",
    "    #Equation system\n",
    "    system_q = [-F_r+w_x-mass*acce, N-w_y]\n",
    "    return system_q\n",
    "solution = opt.fsolve(equation, (0,2*pi) )  "
   ]
  },
  {
   "cell_type": "markdown",
   "metadata": {},
   "source": [
    "#### Solución al sistema de ecuaciones no lineales."
   ]
  },
  {
   "cell_type": "code",
   "execution_count": 9,
   "metadata": {},
   "outputs": [
    {
     "name": "stdout",
     "output_type": "stream",
     "text": [
      "[98.03492276  6.48175756]\n"
     ]
    }
   ],
   "source": [
    "print(solution)"
   ]
  },
  {
   "cell_type": "markdown",
   "metadata": {},
   "source": [
    "#### Matrices de Prueba para nuestras funciones solución,"
   ]
  },
  {
   "cell_type": "code",
   "execution_count": 10,
   "metadata": {},
   "outputs": [],
   "source": [
    "A= [[1,0,0,0],[1,0,0,0],[1,1,1,1],[1,1,1,1]]\n",
    "B= [[1,0,0,0],[1,1,1,0],[1,1,1,1]]\n",
    "C= [[1,1,1,0,0],[1,1,1,0,0],[1,1,1,0,0]]\n",
    "D= [[0,1],[1,0],[0,1]]\n",
    "E= [[0,1,0,0,0,0,0,1,0,0],\n",
    "     [1,0,0,0,0,1,0,0,0,0],\n",
    "     [0,0,1,0,1,0,0,0,0,0],\n",
    "     [1,0,0,0,0,0,0,0,0,0],\n",
    "     [0,0,0,0,0,0,0,0,1,0],\n",
    "     [0,0,0,0,0,0,0,0,0,0],\n",
    "     [0,0,0,0,0,0,0,0,0,1],\n",
    "     [1,0,0,0,1,0,1,0,0,0],\n",
    "     [0,0,1,0,0,0,0,0,1,0],\n",
    "     [0,0,0,0,1,0,1,0,0,0]]\n",
    "F= [[0,1,0,0,0,0,0,1,0,0],\n",
    "     [1,0,0,0,0,1,0,0,0,0],\n",
    "     [0,0,1,0,1,0,0,0,0,0],\n",
    "     [1,0,0,0,0,0,0,0,0,0],\n",
    "     [0,0,0,0,0,0,0,0,1,0],\n",
    "     [0,0,0,0,0,0,0,0,0,0],\n",
    "     [0,0,0,0,0,0,0,0,0,1],\n",
    "     [1,0,0,0,1,0,1,0,0,0],\n",
    "     [0,0,1,0,0,0,0,0,1,0],\n",
    "     [0,0,0,0,1,0,1,0,0,0],\n",
    "     [0,0,0,0,0,0,0,0,0,0]\n",
    "     ]\n",
    "G=[[0,0],[0,0],[1,1],[1,1]] \n",
    "H = [[1,0,0],[1,1,1]]\n",
    "I = [[1,0,0],[1,0,1,0],[1,0,0],[1,1,1]]\n",
    "J = [['a',1],[1,1]]\n",
    "K = [[],[],[],[]]\n",
    "list_pro = [A,B,C,D,F,E,G,H,I,J,K]"
   ]
  },
  {
   "cell_type": "markdown",
   "metadata": {},
   "source": [
    "#### Prueba función Maximo_rectangulo(M)"
   ]
  },
  {
   "cell_type": "code",
   "execution_count": 11,
   "metadata": {},
   "outputs": [
    {
     "name": "stdout",
     "output_type": "stream",
     "text": [
      "(0, 1, 3, 2)\n",
      "(0, 1, 3, 1)\n",
      "(0, 3, 2, 3)\n",
      "(0, 0, 1, 1)\n",
      "(3, 1, 7, 4)\n",
      "(3, 1, 7, 4)\n",
      "(0, 0, 2, 2)\n",
      "(0, 1, 2, 1)\n",
      "La matriz no cumple las condiciones\n",
      "La matriz no cumple las condiciones\n",
      "La matriz no posee elementos\n"
     ]
    }
   ],
   "source": [
    "for i in list_pro:\n",
    "    print(maximo_rectangulo(i))"
   ]
  },
  {
   "cell_type": "markdown",
   "metadata": {},
   "source": [
    "#### Prueba función Maximo_cuadrado(M)"
   ]
  },
  {
   "cell_type": "code",
   "execution_count": 12,
   "metadata": {},
   "outputs": [
    {
     "name": "stdout",
     "output_type": "stream",
     "text": [
      "(0, 1, 2)\n",
      "(0, 1, 1)\n",
      "(0, 3, 2)\n",
      "(0, 0, 1)\n",
      "(3, 1, 4)\n",
      "(3, 1, 4)\n",
      "(0, 0, 2)\n",
      "(0, 1, 1)\n",
      "La matriz no cumple las condiciones\n",
      "La matriz no cumple las condiciones\n",
      "La matriz no posee elementos\n"
     ]
    }
   ],
   "source": [
    "for i in list_pro:\n",
    "    print(maximo_cuadrado(i))"
   ]
  },
  {
   "cell_type": "markdown",
   "metadata": {},
   "source": [
    "#### Prueba función iterador_celdas_libres(M)"
   ]
  },
  {
   "cell_type": "code",
   "execution_count": 13,
   "metadata": {},
   "outputs": [
    {
     "name": "stdout",
     "output_type": "stream",
     "text": [
      "No existe un camino\n",
      "No existe un camino\n",
      "No existe un camino\n",
      "No existe un camino\n",
      "(4, 6)\n",
      "No existe un camino\n",
      "(0, 1)\n",
      "No existe un camino\n",
      "No existe un camino\n",
      "No existe un camino\n",
      "La matriz no posee elementos\n"
     ]
    }
   ],
   "source": [
    "for i in list_pro:\n",
    "    row = randint(0,len(i))\n",
    "    col = randint(0,len(i[0]))\n",
    "    try:\n",
    "        if iterador_celdas_libres(i,int(row),int(col)).__class__.__name__ == 'list_iterator':\n",
    "            print(next(iterador_celdas_libres(i,int(row),int(col))))\n",
    "        else:\n",
    "            print(iterador_celdas_libres(i,int(row),int(col)))\n",
    "    except StopIteration:\n",
    "        continue\n",
    "    "
   ]
  }
 ],
 "metadata": {
  "kernelspec": {
   "display_name": "Python 3",
   "language": "python",
   "name": "python3"
  },
  "language_info": {
   "codemirror_mode": {
    "name": "ipython",
    "version": 3
   },
   "file_extension": ".py",
   "mimetype": "text/x-python",
   "name": "python",
   "nbconvert_exporter": "python",
   "pygments_lexer": "ipython3",
   "version": "3.7.6"
  }
 },
 "nbformat": 4,
 "nbformat_minor": 4
}
